{
 "cells": [
  {
   "cell_type": "code",
   "execution_count": 90,
   "id": "dc50f49d-b62e-439e-8242-47180d861ac4",
   "metadata": {
    "tags": []
   },
   "outputs": [],
   "source": [
    "import tensorflow as tf\n",
    "import numpy as np\n",
    "from tensorflow import keras\n",
    "import matplotlib.pyplot as plt\n",
    "import time\n",
    "from IPython import display"
   ]
  },
  {
   "cell_type": "code",
   "execution_count": 91,
   "id": "eb97c3a3-bd71-4009-98ad-e027a64d8b2d",
   "metadata": {},
   "outputs": [],
   "source": [
    "(x_train, y_train), (x_test, y_test) = tf.keras.datasets.cifar100.load_data()"
   ]
  },
  {
   "cell_type": "code",
   "execution_count": 92,
   "id": "6af30412-2410-49b2-8300-df596213c2e6",
   "metadata": {},
   "outputs": [
    {
     "data": {
      "text/plain": [
       "(50000, 32, 32, 3)"
      ]
     },
     "execution_count": 92,
     "metadata": {},
     "output_type": "execute_result"
    }
   ],
   "source": [
    "x_train.shape"
   ]
  },
  {
   "cell_type": "code",
   "execution_count": 93,
   "id": "2252e746-87c7-4e3c-9982-e21929b89c3b",
   "metadata": {},
   "outputs": [],
   "source": [
    "def discriminators_model():\n",
    "    model = keras.Sequential()\n",
    "    model.add(keras.layers.InputLayer((32, 32, 3)))\n",
    "    model.add(keras.layers.Conv2D(64,kernel_size=3,strides=2,padding=\"same\"))\n",
    "    model.add(keras.layers.LeakyReLU(0.1))\n",
    "    model.add(keras.layers.MaxPool2D())\n",
    "    model.add(keras.layers.Conv2D(128,kernel_size=3,strides=2,padding=\"same\"))\n",
    "    model.add(keras.layers.LeakyReLU(0.1))\n",
    "    model.add(keras.layers.MaxPool2D())\n",
    "    model.add(keras.layers.Dense(1,activation=\"softmax\"))\n",
    "    return model\n",
    "discriminators = discriminators_model()"
   ]
  },
  {
   "cell_type": "code",
   "execution_count": 94,
   "id": "3825077a-7914-4796-8b20-b53755ad48ec",
   "metadata": {},
   "outputs": [],
   "source": [
    "def generator_model():\n",
    "    model = keras.Sequential()\n",
    "    model.add(keras.layers.InputLayer(input_shape=(100,)))\n",
    "    model.add(keras.layers.Dense(256*4*4))\n",
    "    model.add(keras.layers.LeakyReLU(0.1))\n",
    "    model.add(keras.layers.Reshape((4, 4, 256)))\n",
    "    model.add(keras.layers.Conv2DTranspose(256, kernel_size=4, strides=2, padding=\"same\"))  # 16\n",
    "    model.add(keras.layers.LeakyReLU(0.1))\n",
    "    model.add(keras.layers.Conv2DTranspose(128, kernel_size=4, strides=2, padding=\"same\"))  # 16\n",
    "    model.add(keras.layers.LeakyReLU(0.1))\n",
    "    model.add(keras.layers.Conv2DTranspose(64, kernel_size=4, strides=2, padding=\"same\"))  # 32\n",
    "    model.add(keras.layers.LeakyReLU(0.1))\n",
    "    model.add(keras.layers.Conv2D(3, (7, 7), padding=\"same\", activation=\"tanh\"))\n",
    "    return model\n",
    "generator = generator_model()"
   ]
  },
  {
   "cell_type": "code",
   "execution_count": 95,
   "id": "cf557cb0-381b-4798-bd35-ccb85caa8d55",
   "metadata": {},
   "outputs": [],
   "source": [
    "cross_entropy = keras.losses.BinaryCrossentropy(from_logits=True)"
   ]
  },
  {
   "cell_type": "code",
   "execution_count": 96,
   "id": "6e73eecf-95b9-49d9-830b-cf3308ceaf93",
   "metadata": {},
   "outputs": [],
   "source": [
    "def discriminators_loss (real_output,fake_output):\n",
    "    real = cross_entropy(tf.ones_like(real_output),real_output)\n",
    "    fake = cross_entropy(tf.zeros_like(fake_output),fake_output)\n",
    "    return real+fake\n",
    "def generators_loss (fake_output):\n",
    "    return cross_entropy(tf.ones_like(fake_output),fake_output)"
   ]
  },
  {
   "cell_type": "code",
   "execution_count": 99,
   "id": "93cba603-ed88-42f1-8db9-d96df9409f5d",
   "metadata": {},
   "outputs": [],
   "source": [
    "epochs = 200\n",
    "noise_dim = 100\n",
    "batch_size = 128\n",
    "\n",
    "generator_optimazer=keras.optimizers.Adam(1e-4)\n",
    "discriminators_optimazer=keras.optimizers.Adam(1e-4)"
   ]
  },
  {
   "cell_type": "code",
   "execution_count": 100,
   "id": "118d8282-3f0e-4061-b8e3-9997723c29f1",
   "metadata": {},
   "outputs": [],
   "source": [
    "@tf.function\n",
    "def train_step (images) : \n",
    "    noise = tf.random.normal((batch_size,noise_dim))\n",
    "    with tf.GradientTape() as gan_tape , tf.GradientTape() as dis_tape:\n",
    "        generate_image = generator(noise)\n",
    "        real_output = discriminators(images)\n",
    "        fake_output = discriminators(generate_image)\n",
    "        gan_loss = generators_loss(fake_output)\n",
    "        dis_loss = discriminators_loss(real_output,fake_output)\n",
    "    genertor_gradian = gan_tape.gradient(gan_loss,generator.trainable_variables)\n",
    "    discriminators_gradian = dis_tape.gradient(dis_loss,discriminators.trainable_variables)\n",
    "    \n",
    "    generator_optimazer.apply_gradients(zip(genertor_gradian,generator.trainable_variables))\n",
    "    discriminators_optimazer.apply_gradients(zip(discriminators_gradian,discriminators.trainable_variables))"
   ]
  },
  {
   "cell_type": "code",
   "execution_count": 101,
   "id": "07cfebd4-503f-4235-ab04-5ee1546ab443",
   "metadata": {},
   "outputs": [],
   "source": [
    "def trainig_loop (train_dataset,epochs):\n",
    "    for epochs in range(epochs):\n",
    "        start = time.time()\n",
    "        for batch_image in train_dataset:\n",
    "            train_step(batch_image)\n",
    "        display.clear_output(wait=True)\n",
    "        generate_and_save_images(generator, epoch + 1, seed)\n",
    "        print(f'Time for epoch {epoch + 1} is {time.time() - start} sec')\n",
    "    display.clear_output(wait=True)\n",
    "    generate_and_save_images(generator, epochs, seed)"
   ]
  },
  {
   "cell_type": "code",
   "execution_count": 102,
   "id": "de6b6d0e-613e-4224-a5d7-74fe8f34e81b",
   "metadata": {},
   "outputs": [],
   "source": [
    "def generate_and_save_images(model, epoch, test_input):\n",
    "    predictions = model(test_input, training=False)\n",
    "    fig = plt.figure(figsize=(4, 4))\n",
    "    for i in range(predictions.shape[0]):\n",
    "        plt.subplot(4, 4, i+1)\n",
    "        plt.imshow(predictions[i, :, :, 0] * 127.5 + 127.5, cmap='gray')\n",
    "        plt.axis('off')\n",
    "    plt.show()"
   ]
  },
  {
   "cell_type": "code",
   "execution_count": 103,
   "id": "b6324e08-63f1-41ce-aff3-5895807abd71",
   "metadata": {},
   "outputs": [],
   "source": [
    "x_train = (x_train - 127.5) / 127.5 "
   ]
  },
  {
   "cell_type": "code",
   "execution_count": 104,
   "id": "df01336f-52e4-4580-98c7-4af44efed12c",
   "metadata": {},
   "outputs": [
    {
     "ename": "NameError",
     "evalue": "name 'seed' is not defined",
     "output_type": "error",
     "traceback": [
      "\u001b[0;31m---------------------------------------------------------------------------\u001b[0m",
      "\u001b[0;31mNameError\u001b[0m                                 Traceback (most recent call last)",
      "Cell \u001b[0;32mIn[104], line 3\u001b[0m\n\u001b[1;32m      1\u001b[0m train_dataset \u001b[38;5;241m=\u001b[39m tf\u001b[38;5;241m.\u001b[39mdata\u001b[38;5;241m.\u001b[39mDataset\u001b[38;5;241m.\u001b[39mfrom_tensor_slices(x_train)\u001b[38;5;241m.\u001b[39mshuffle(\u001b[38;5;241m60000\u001b[39m)\u001b[38;5;241m.\u001b[39mbatch(batch_size)\n\u001b[0;32m----> 3\u001b[0m \u001b[43mtrainig_loop\u001b[49m\u001b[43m(\u001b[49m\u001b[43mtrain_dataset\u001b[49m\u001b[43m,\u001b[49m\u001b[43m \u001b[49m\u001b[43mepochs\u001b[49m\u001b[43m)\u001b[49m\n",
      "Cell \u001b[0;32mIn[101], line 7\u001b[0m, in \u001b[0;36mtrainig_loop\u001b[0;34m(train_dataset, epochs)\u001b[0m\n\u001b[1;32m      5\u001b[0m         train_step(batch_image)\n\u001b[1;32m      6\u001b[0m     display\u001b[38;5;241m.\u001b[39mclear_output(wait\u001b[38;5;241m=\u001b[39m\u001b[38;5;28;01mTrue\u001b[39;00m)\n\u001b[0;32m----> 7\u001b[0m     generate_and_save_images(generator, epoch \u001b[38;5;241m+\u001b[39m \u001b[38;5;241m1\u001b[39m, \u001b[43mseed\u001b[49m)\n\u001b[1;32m      8\u001b[0m     \u001b[38;5;28mprint\u001b[39m(\u001b[38;5;124mf\u001b[39m\u001b[38;5;124m'\u001b[39m\u001b[38;5;124mTime for epoch \u001b[39m\u001b[38;5;132;01m{\u001b[39;00mepoch\u001b[38;5;250m \u001b[39m\u001b[38;5;241m+\u001b[39m\u001b[38;5;250m \u001b[39m\u001b[38;5;241m1\u001b[39m\u001b[38;5;132;01m}\u001b[39;00m\u001b[38;5;124m is \u001b[39m\u001b[38;5;132;01m{\u001b[39;00mtime\u001b[38;5;241m.\u001b[39mtime()\u001b[38;5;250m \u001b[39m\u001b[38;5;241m-\u001b[39m\u001b[38;5;250m \u001b[39mstart\u001b[38;5;132;01m}\u001b[39;00m\u001b[38;5;124m sec\u001b[39m\u001b[38;5;124m'\u001b[39m)\n\u001b[1;32m      9\u001b[0m display\u001b[38;5;241m.\u001b[39mclear_output(wait\u001b[38;5;241m=\u001b[39m\u001b[38;5;28;01mTrue\u001b[39;00m)\n",
      "\u001b[0;31mNameError\u001b[0m: name 'seed' is not defined"
     ]
    }
   ],
   "source": [
    "train_dataset = tf.data.Dataset.from_tensor_slices(x_train).shuffle(60000).batch(batch_size)\n",
    "\n",
    "trainig_loop(train_dataset.take(), epochs)"
   ]
  },
  {
   "cell_type": "code",
   "execution_count": null,
   "id": "37949db5-222e-4e32-9686-88a15fc1be3f",
   "metadata": {},
   "outputs": [],
   "source": []
  }
 ],
 "metadata": {
  "kernelspec": {
   "display_name": "Python 3 (ipykernel)",
   "language": "python",
   "name": "python3"
  },
  "language_info": {
   "codemirror_mode": {
    "name": "ipython",
    "version": 3
   },
   "file_extension": ".py",
   "mimetype": "text/x-python",
   "name": "python",
   "nbconvert_exporter": "python",
   "pygments_lexer": "ipython3",
   "version": "3.11.7"
  }
 },
 "nbformat": 4,
 "nbformat_minor": 5
}
